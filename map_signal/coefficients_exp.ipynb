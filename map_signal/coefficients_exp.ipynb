{
 "cells": [
  {
   "cell_type": "code",
   "execution_count": 153,
   "metadata": {},
   "outputs": [],
   "source": [
    "import numpy as np\n",
    "import matplotlib.pyplot as plt\n",
    "import scipy.stats as stats\n",
    "from IPython.display import Audio, display\n",
    "from ipywidgets import interact\n",
    "\n",
    "%matplotlib inline"
   ]
  },
  {
   "cell_type": "code",
   "execution_count": 171,
   "metadata": {},
   "outputs": [],
   "source": [
    "def discrete_normal_distribution(frequency, num_harmonics, mean=None):\n",
    "    array = np.arange(1, num_harmonics + 1, dtype=np.float32)\n",
    "    mean  = np.median(array) if mean is None else mean\n",
    "    coefficients = stats.norm(mean, np.std(array)*2).pdf(array)\n",
    "    coefficients /= sum(coefficients)\n",
    "    harmonics = array * frequency\n",
    "    return (harmonics, coefficients)\n",
    "\n",
    "def generate_waveform(harmonics, fourier_coeffs, sample_rate=44100, duration=3):\n",
    "    length = int(sample_rate * duration)\n",
    "    discrete_times = np.linspace(0, duration, length, endpoint=False)\n",
    "    waveform = np.zeros(length)\n",
    "    \n",
    "    for freq, coeff in zip(harmonics, fourier_coeffs):\n",
    "        waveform += (np.sin(2 * np.pi * freq * discrete_times) * coeff)\n",
    "    # Normalize the waveform between -1 and 1\n",
    "    waveform /= np.max(np.abs(waveform))\n",
    "    return np.int16(waveform * 32767)"
   ]
  },
  {
   "cell_type": "code",
   "execution_count": 172,
   "metadata": {},
   "outputs": [
    {
     "data": {
      "application/vnd.jupyter.widget-view+json": {
       "model_id": "1459a3c3cac540f88958ce7a11ccb615",
       "version_major": 2,
       "version_minor": 0
      },
      "text/plain": [
       "interactive(children=(IntSlider(value=100, description='fun', max=500, min=50, step=10), IntSlider(value=10, d…"
      ]
     },
     "metadata": {},
     "output_type": "display_data"
    }
   ],
   "source": [
    "sample_rate = 44100\n",
    "duration = 3\n",
    "\n",
    "@interact(fun=(50, 500, 10), num_harms=(4, 20, 1), h_mean=(1, 10, 1))\n",
    "def plot_spectrum(fun=100, num_harms=10, h_mean=5):\n",
    "\n",
    "    harmonics, coefs = discrete_normal_distribution(frequency=fun, num_harmonics=num_harms, mean=h_mean)\n",
    "    waveform = generate_waveform(harmonics, coefs, duration = duration, sample_rate=sample_rate)\n",
    "    \n",
    "    fig, (ax1, ax2) = plt.subplots(1, 2, figsize=(8, 4)) \n",
    "    fig.suptitle(f\"\"\"{fun} Hz harmonic complex with {num_harms}\"\"\", weight=\"bold\")\n",
    "    fig.subplots_adjust(wspace=0.4, top=0.85)\n",
    "\n",
    "    ax1.bar(harmonics, coefs, width=0.5*fun)\n",
    "    ax1.set_xlabel(\"Array\")\n",
    "    ax1.set_ylabel(\"Coefficient\")\n",
    "    ax1.set_title(f\"mean = {h_mean * fun} Hz, std = {np.std(harmonics):.2f}\")\n",
    "\n",
    "    n_period = 3\n",
    "    periods = n_period / fun\n",
    "    num_sample = int(periods * sample_rate)\n",
    "    time = np.linspace(0, periods, num_sample)\n",
    "\n",
    "    ax2.plot(time, waveform[:num_sample])\n",
    "    ax2.set_xlabel(\"Time (s)\")\n",
    "    ax2.set_ylabel(\"Amplitude\")\n",
    "    ax2.set_title(\"Waveform\")\n",
    "\n",
    "    display(Audio(waveform, rate=sample_rate))\n",
    "\n"
   ]
  }
 ],
 "metadata": {
  "kernelspec": {
   "display_name": ".venv",
   "language": "python",
   "name": "python3"
  },
  "language_info": {
   "codemirror_mode": {
    "name": "ipython",
    "version": 3
   },
   "file_extension": ".py",
   "mimetype": "text/x-python",
   "name": "python",
   "nbconvert_exporter": "python",
   "pygments_lexer": "ipython3",
   "version": "3.11.2"
  },
  "orig_nbformat": 4
 },
 "nbformat": 4,
 "nbformat_minor": 2
}
